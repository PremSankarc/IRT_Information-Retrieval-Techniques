{
 "cells": [
  {
   "cell_type": "code",
   "execution_count": 14,
   "metadata": {},
   "outputs": [],
   "source": [
    "\n",
    "# Collection of documents (corpus)\n",
    "#Phone Reviews #Research Abstracts #Facebook Comments #Twitter Tweets\n",
    "\n",
    "Doc_1= \"new home sales top forecasts\"\n",
    "Doc_2= \"home sales rise in july\"\n",
    "Doc_3= \"increase in home sales in july\"\n",
    "Doc_4= \"july new home sales rise\""
   ]
  },
  {
   "cell_type": "code",
   "execution_count": 15,
   "metadata": {},
   "outputs": [
    {
     "data": {
      "text/plain": [
       "['new home sales top forecasts',\n",
       " 'home sales rise in july',\n",
       " 'increase in home sales in july',\n",
       " 'july new home sales rise']"
      ]
     },
     "execution_count": 15,
     "metadata": {},
     "output_type": "execute_result"
    }
   ],
   "source": [
    "docs = [Doc_1, Doc_2, Doc_3,Doc_4 ]\n",
    "docs"
   ]
  },
  {
   "cell_type": "code",
   "execution_count": 16,
   "metadata": {},
   "outputs": [
    {
     "data": {
      "text/plain": [
       "{'forecasts', 'home', 'in', 'increase', 'july', 'new', 'rise', 'sales', 'top'}"
      ]
     },
     "execution_count": 16,
     "metadata": {},
     "output_type": "execute_result"
    }
   ],
   "source": [
    "# Gather the set of all unique terms\n",
    "unique_terms = {term for doc in docs for term in doc.split()}\n",
    "unique_terms"
   ]
  },
  {
   "cell_type": "code",
   "execution_count": 17,
   "metadata": {},
   "outputs": [
    {
     "data": {
      "text/plain": [
       "{'new': [1, 0, 0, 1],\n",
       " 'july': [0, 1, 1, 1],\n",
       " 'sales': [1, 1, 1, 1],\n",
       " 'forecasts': [1, 0, 0, 0],\n",
       " 'in': [0, 1, 1, 0],\n",
       " 'home': [1, 1, 1, 1],\n",
       " 'top': [1, 0, 0, 0],\n",
       " 'increase': [0, 0, 1, 0],\n",
       " 'rise': [0, 1, 0, 1]}"
      ]
     },
     "execution_count": 17,
     "metadata": {},
     "output_type": "execute_result"
    }
   ],
   "source": [
    "# Construct a term-document matrix\n",
    "# here as a Python dictionary for ease of interpretability\n",
    "\n",
    "doc_term_matrix = {}\n",
    "\n",
    "for term in unique_terms:\n",
    "    doc_term_matrix[term] = []\n",
    "    \n",
    "    for doc in docs:\n",
    "        if term in doc:\n",
    "            doc_term_matrix[term].append(1)\n",
    "        else: doc_term_matrix[term].append(0)\n",
    "\n",
    "doc_term_matrix"
   ]
  },
  {
   "cell_type": "code",
   "execution_count": 20,
   "metadata": {},
   "outputs": [
    {
     "name": "stdout",
     "output_type": "stream",
     "text": [
      "[1 1 1 1]\n",
      "[1 1 1 1]\n",
      "[0 1 1 1]\n",
      "-------\n",
      "[0 1 1 1]\n"
     ]
    }
   ],
   "source": [
    "# The query to find all documents containing \"home\" AND \"sales\"AND \"july\"\n",
    "# Is just a bitwise AND:\n",
    "\n",
    "import numpy as np\n",
    "\n",
    "docs_array = np.array(docs, dtype='object')\n",
    "\n",
    "v1 = np.array(doc_term_matrix['home'])    \n",
    "v2 = np.array(doc_term_matrix['sales'])\n",
    "v3 = np.array(doc_term_matrix['july'])\n",
    "print(v1)\n",
    "print(v2)\n",
    "print(v3)\n",
    "print('-------')\n",
    "v = v1 & v2 & v3\n",
    "print(v)"
   ]
  },
  {
   "cell_type": "code",
   "execution_count": 21,
   "metadata": {},
   "outputs": [
    {
     "data": {
      "text/plain": [
       "['home sales rise in july',\n",
       " 'increase in home sales in july',\n",
       " 'july new home sales rise']"
      ]
     },
     "execution_count": 21,
     "metadata": {},
     "output_type": "execute_result"
    }
   ],
   "source": [
    "# We can now get the matching documents from our corpus with the result\n",
    "[doc for doc in v * docs_array if doc]"
   ]
  },
  {
   "cell_type": "code",
   "execution_count": 23,
   "metadata": {},
   "outputs": [
    {
     "name": "stdout",
     "output_type": "stream",
     "text": [
      "[1 0 0 0]\n",
      "[0 1 0 1]\n",
      "-------\n",
      "[1 1 0 1]\n"
     ]
    }
   ],
   "source": [
    "# Bitwise OR to construct 'this' or 'that' queries.\n",
    "\n",
    "v1 = np.array(doc_term_matrix['forecasts'])    \n",
    "v2 = np.array(doc_term_matrix['rise'])\n",
    "\n",
    "print(v1)\n",
    "print(v2)\n",
    "print('-------')\n",
    "v = v1 | v2\n",
    "print(v)"
   ]
  },
  {
   "cell_type": "code",
   "execution_count": 24,
   "metadata": {},
   "outputs": [
    {
     "data": {
      "text/plain": [
       "['home sales rise in july',\n",
       " 'increase in home sales in july',\n",
       " 'july new home sales rise']"
      ]
     },
     "execution_count": 24,
     "metadata": {},
     "output_type": "execute_result"
    }
   ],
   "source": [
    "# We can now get the matching documents from our corpus with the result\n",
    "[doc for doc in v * docs_array if doc]"
   ]
  },
  {
   "cell_type": "code",
   "execution_count": null,
   "metadata": {},
   "outputs": [],
   "source": []
  }
 ],
 "metadata": {
  "kernelspec": {
   "display_name": "Python 3",
   "language": "python",
   "name": "python3"
  },
  "language_info": {
   "codemirror_mode": {
    "name": "ipython",
    "version": 3
   },
   "file_extension": ".py",
   "mimetype": "text/x-python",
   "name": "python",
   "nbconvert_exporter": "python",
   "pygments_lexer": "ipython3",
   "version": "3.8.3"
  }
 },
 "nbformat": 4,
 "nbformat_minor": 4
}
