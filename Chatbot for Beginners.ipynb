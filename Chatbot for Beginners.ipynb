{
 "cells": [
  {
   "cell_type": "markdown",
   "metadata": {},
   "source": [
    "# Chatbot for Beginners"
   ]
  },
  {
   "cell_type": "markdown",
   "metadata": {},
   "source": [
    "What is a chatbot?\n",
    "A chatbot is a computer application used to conduct an on-line chat conversation via text like live human agent.A chatbot is a type of software that can help customers by automating conversations and interact with them through messaging platforms.Such programs are often designed to convincingly simulate how a human would behave as a conversational partner, thereby passing the Turing test.\n",
    "\n",
    " Chatbots are typically used in dialog systems for various practical purposes including customer service or information acquisition. — Wikipedia\n",
    "\n",
    "This notebook contains basic code for building a chatbot."
   ]
  },
  {
   "cell_type": "code",
   "execution_count": 7,
   "metadata": {},
   "outputs": [],
   "source": [
    "\n",
    "import random"
   ]
  },
  {
   "cell_type": "code",
   "execution_count": 8,
   "metadata": {},
   "outputs": [],
   "source": [
    "#Greetings\n",
    "GREETING_INPUTS = (\"hello\", \"hi\", \"greetings\", \"da\", \"what's up\",\"hey\",)\n",
    "GREETING_RESPONSES = [\"hi\", \"hey\", \"daa..\", \"hi there\", \"hello\", \"I am glad! You are talking to me\"]\n",
    "def greeting(user_response):\n",
    "    for word in user_response.split():\n",
    "        if word.lower() in GREETING_INPUTS:\n",
    "            return random.choice(GREETING_RESPONSES)"
   ]
  },
  {
   "cell_type": "code",
   "execution_count": 9,
   "metadata": {},
   "outputs": [
    {
     "name": "stdout",
     "output_type": "stream",
     "text": [
      "My name is ChitChat Bot and I'm a chatbot. If you want to exit, type 'Bye'\n",
      "bye\n",
      "ChitChat Bot : Bye! take care..\n"
     ]
    }
   ],
   "source": [
    "flag=True\n",
    "print(\"My name is ChitChat Bot and I'm a chatbot. If you want to exit, type 'Bye'\")\n",
    "while(flag==True):\n",
    "    user_response = input()\n",
    "    user_response=user_response.lower()\n",
    "    if(user_response!='bye'):\n",
    "        if(user_response=='thanks' or user_response=='thank you' ):\n",
    "            flag=False\n",
    "            print(\"ChitChat Bot : You are welcome..\")\n",
    "        else:\n",
    "            if(greeting(user_response)!=None):\n",
    "                print(\"ChitChat Bot : \"+greeting(user_response))\n",
    "            else:\n",
    "                print(\"ChitChat Bot : \",end=\"\")\n",
    "                print(\"Cannot understand\")\n",
    "           #    \n",
    "           #     print(response(user_response))\n",
    "           #     sent_tokens.remove(user_response)\n",
    "    else:\n",
    "        flag=False\n",
    "        print(\"ChitChat Bot : Bye! take care..\")\n"
   ]
  },
  {
   "cell_type": "code",
   "execution_count": null,
   "metadata": {},
   "outputs": [],
   "source": []
  },
  {
   "cell_type": "code",
   "execution_count": null,
   "metadata": {},
   "outputs": [],
   "source": []
  }
 ],
 "metadata": {
  "kernelspec": {
   "display_name": "Python 3",
   "language": "python",
   "name": "python3"
  },
  "language_info": {
   "codemirror_mode": {
    "name": "ipython",
    "version": 3
   },
   "file_extension": ".py",
   "mimetype": "text/x-python",
   "name": "python",
   "nbconvert_exporter": "python",
   "pygments_lexer": "ipython3",
   "version": "3.8.3"
  }
 },
 "nbformat": 4,
 "nbformat_minor": 4
}
